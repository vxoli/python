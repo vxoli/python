{
 "cells": [
  {
   "cell_type": "code",
   "execution_count": 1,
   "id": "713e0b29",
   "metadata": {},
   "outputs": [],
   "source": [
    "import numpy as np\n",
    "import pandas as pd\n",
    "\n",
    "# not sure need matplot/ scipy/ openpyxl for this - just here because...\n",
    "import matplotlib.pyplot as plt\n",
    "import scipy as sp\n",
    "import openpyxl\n",
    "\n",
    "# these for scraping pdf's\n",
    "import tabula as tb\n",
    "import camelot\n"
   ]
  },
  {
   "cell_type": "code",
   "execution_count": 7,
   "id": "ffb7d62e",
   "metadata": {},
   "outputs": [
    {
     "data": {
      "text/plain": [
       "DA    1\n",
       "EP    1\n",
       "Name: Margale, dtype: int64"
      ]
     },
     "execution_count": 7,
     "metadata": {},
     "output_type": "execute_result"
    }
   ],
   "source": [
    "# define add to dictionary function\n",
    "def add_allocations(anaesthetist, specialty, allocations):\n",
    "    if pd.isna(anaesthetist):\n",
    "        return allocations\n",
    "    \n",
    "    anaesthetist = anaesthetist.title().lstrip().rstrip()\n",
    "\n",
    "    if anaesthetist in allocations.keys():\n",
    "        allocations[anaesthetist].append(specialty)\n",
    "    else:\n",
    "        allocations[anaesthetist] = [specialty]\n",
    "    return allocations\n",
    "\n",
    "\n",
    "#extract and work with MOT part of map first\n",
    "MAP_MOT = pd.read_excel('/home/christopher/Downloads/Theatre Daily map as excel sheet.xlsx', sheet_name = 0, header = 1, index_col = 1, nrows = 9, engine = \"openpyxl\") #? drop columns 0,1/ \n",
    "allocations = dict()\n",
    "\n",
    "#working with morning lists \n",
    "# get list of theaters and drop unnamed (empty) columns\n",
    "theatres = [x for x in list(MAP_MOT) if 'Unnamed' not in x]\n",
    "for theatre in theatres:\n",
    "    specialty_am = MAP_MOT[theatre]['Specialty'][0]\n",
    "    anaesthetist_am = MAP_MOT[theatre]['Anaesthetist'][0]\n",
    "    allocations = add_allocations(anaesthetist_am, specialty_am, allocations)\n",
    "\n",
    "    specialty_pm = MAP_MOT[theatre]['Specialty'][1]\n",
    "    anaesthetist_pm = MAP_MOT[theatre]['Anaesthetist'][1]\n",
    "    allocations = add_allocations(anaesthetist_pm, specialty_pm, allocations)\n",
    "\n",
    "# extract and work with off-floor (lower) portion of map (otf -> 'off_the_floor')\n",
    "MAP_OTF = pd.read_excel('/home/christopher/Downloads/Theatre Daily map as excel sheet.xlsx', sheet_name = 0, header = 1, index_col = 1, skiprows = 10, nrows = 25, engine = \"openpyxl\") #? drop columns 0,1/ \n",
    "areas = [x for x in list(MAP_OTF)[0:8] if 'Unnamed' not in x]\n",
    "for area in areas:\n",
    "    specialty = area\n",
    "    anaesthetist_am = MAP_OTF[area]['AM'][0]\n",
    "    allocations = add_allocations(anaesthetist_am, specialty, allocations)\n",
    "\n",
    "    anaesthetist_pm = MAP_OTF[area]['PM'][0]\n",
    "    allocations = add_allocations(anaesthetist_pm, specialty, allocations)\n",
    "\n",
    "###    # Will need correcting when spelling errors in map corrected. ###\n",
    "MAP_OTF_2 = pd.read_excel('/home/christopher/Downloads/Theatre Daily map as excel sheet.xlsx', sheet_name = 0, header = 1, index_col = 1, skiprows = 14, nrows = 3, engine = \"openpyxl\") #? drop columns 0,1/ \n",
    "allocations = add_allocations(MAP_OTF_2['ECT']['Anaesthetist'], 'ECT', allocations)\n",
    "allocations = add_allocations(MAP_OTF_2['Echo']['Anaesthetist'], 'Echo', allocations)\n",
    "allocations = add_allocations(MAP_OTF_2['EP']['Anaesthetist'], 'EP', allocations)\n",
    "allocations = add_allocations(MAP_OTF_2['Pain']['Anaesthetist'], 'Pain', allocations)\n",
    "\n",
    "MAP_OTF_3 = pd.read_excel('/home/christopher/Downloads/Theatre Daily map as excel sheet.xlsx', sheet_name = 0, header = 1, index_col = 1, skiprows = 18, nrows = 3, na_values=[\"NA\"], engine = \"openpyxl\") #? drop columns 0,1/ \n",
    "clinical_support = list(MAP_OTF_3.loc['AM'][1:8].dropna()) + list(MAP_OTF_3.loc['PM'][1:8].dropna())\n",
    "\n",
    "MAP_OTF_4 = pd.read_excel('/home/christopher/Downloads/Theatre Daily map as excel sheet.xlsx', sheet_name = 0, header = 1, index_col = 1, skiprows = 25, nrows = 3, na_values=[\"NA\"], engine = \"openpyxl\") #? drop columns 0,1/ \n",
    "meetings = list(MAP_OTF_4.loc['AM'][1:7].dropna()) + list(MAP_OTF_4.loc['PM'][1:7].dropna())\n",
    "\n",
    "for anaesthetist in clinical_support:\n",
    "    allocations = add_allocations(anaesthetist, 'Clinical Support', allocations)\n",
    "for anaesthetist in meetings:\n",
    "    allocations = add_allocations(anaesthetist, 'Meetings', allocations)\n",
    "\n",
    "allocations = pd.DataFrame.from_dict(allocations, orient='index')\n",
    "allocations.loc['Margale'].value_counts()\n"
   ]
  },
  {
   "cell_type": "code",
   "execution_count": null,
   "id": "e317fb30",
   "metadata": {},
   "outputs": [],
   "source": []
  }
 ],
 "metadata": {
  "kernelspec": {
   "display_name": "Python 3",
   "language": "python",
   "name": "python3"
  },
  "language_info": {
   "codemirror_mode": {
    "name": "ipython",
    "version": 3
   },
   "file_extension": ".py",
   "mimetype": "text/x-python",
   "name": "python",
   "nbconvert_exporter": "python",
   "pygments_lexer": "ipython3",
   "version": "3.9.5"
  }
 },
 "nbformat": 4,
 "nbformat_minor": 5
}
