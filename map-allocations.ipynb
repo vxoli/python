{
 "cells": [
  {
   "cell_type": "code",
   "execution_count": 1,
   "id": "713e0b29",
   "metadata": {},
   "outputs": [],
   "source": [
    "import numpy as np\n",
    "import pandas as pd\n",
    "\n",
    "# not sure need matplot/ scipy/ openpyxl for this - just here because...\n",
    "import matplotlib.pyplot as plt\n",
    "import scipy as sp\n",
    "import openpyxl\n",
    "\n",
    "# these for scraping pdf's\n",
    "import tabula as tb\n",
    "import camelot\n"
   ]
  },
  {
   "cell_type": "code",
   "execution_count": 2,
   "id": "ffb7d62e",
   "metadata": {},
   "outputs": [
    {
     "data": {
      "text/plain": [
       "{'Kunju': ['Thoracics', 'Thoracics'],\n",
       " 'Liew': ['Gen Surg', 'Gen Surg'],\n",
       " 'Postle': ['Cardiac', 'Clinical Support'],\n",
       " 'Cam Collard': ['Cardiac', 'Urology'],\n",
       " 'Natani': ['Tavi'],\n",
       " 'Beuth': ['Cardiac', 'Cardiac'],\n",
       " 'Howarth': ['Cardiac', 'Cardiac'],\n",
       " 'Marudachalam': ['NOF', 'Ortho'],\n",
       " 'Stanton': ['Ortho', 'Ortho'],\n",
       " 'Larsen': ['Ortho', 'Ortho'],\n",
       " 'Mar': ['Gen Surg emerg', 'Gen Surg '],\n",
       " 'Smith': ['Bronch', 'Clinical Support'],\n",
       " 'Stonell': ['Endo 1', 'Endo 1'],\n",
       " 'Toon': ['Endo 2', 'Endo 2'],\n",
       " 'Closed': ['Endo 3', 'Endo 3', 'Echo'],\n",
       " 'Bacajewski': ['Endo 4', 'Endo 4'],\n",
       " 'Vaughan': ['DA', 'Clinic'],\n",
       " 'Margale': ['DA', 'EP'],\n",
       " 'Rapchuk': ['Clinic', 'Meetings'],\n",
       " 'J. Jayamaha': ['ECT']}"
      ]
     },
     "execution_count": 2,
     "metadata": {},
     "output_type": "execute_result"
    }
   ],
   "source": [
    "# define add to dictionary function\n",
    "def add_allocations(anaesthetist, specialty, allocations):\n",
    "    if pd.isna(anaesthetist):\n",
    "        return allocations\n",
    "    \n",
    "    anaesthetist = anaesthetist.title()\n",
    "\n",
    "    if anaesthetist in allocations.keys():\n",
    "        allocations[anaesthetist].append(specialty)\n",
    "    else:\n",
    "        allocations[anaesthetist] = [specialty]\n",
    "    return allocations\n",
    "\n",
    "\n",
    "#extract and work with MOT part of map first\n",
    "MAP_MOT = pd.read_excel('/home/christopher/Downloads/Theatre Daily map as excel sheet.xlsx', sheet_name = 0, header = 1, nrows = 9, engine = \"openpyxl\") #? drop columns 0,1/ \n",
    "allocations = dict()\n",
    "\n",
    "#working with morning lists \n",
    "# get list of theaters and drop unnamed (empty) columns\n",
    "theatres = [x for x in list(MAP_MOT) if 'Unnamed' not in x]\n",
    "for theatre in theatres:\n",
    "    specialty_am = MAP_MOT[theatre][0]\n",
    "    anaesthetist_am = MAP_MOT[theatre][2]\n",
    "    allocations = add_allocations(anaesthetist_am, specialty_am, allocations)\n",
    "\n",
    "    specialty_pm = MAP_MOT[theatre][4]\n",
    "    anaesthetist_pm = MAP_MOT[theatre][6]\n",
    "    allocations = add_allocations(anaesthetist_pm, specialty_pm, allocations)\n",
    "\n",
    "# extract and work with off-floor (lower) portion of map (otf -> 'off_the_floor')\n",
    "MAP_OTF = pd.read_excel('/home/christopher/Downloads/Theatre Daily map as excel sheet.xlsx', sheet_name = 0, header = 1, skiprows = 10, nrows = 25, engine = \"openpyxl\") #? drop columns 0,1/ \n",
    "areas = [x for x in list(MAP_OTF)[0:8] if 'Unnamed' not in x]\n",
    "for area in areas:\n",
    "    specialty = area\n",
    "    anaesthetist_am = MAP_OTF[area][0]\n",
    "    allocations = add_allocations(anaesthetist_am, specialty, allocations)\n",
    "\n",
    "    anaesthetist_pm = MAP_OTF[area][1]\n",
    "    allocations = add_allocations(anaesthetist_pm, specialty, allocations)\n",
    "\n",
    "allocations = add_allocations(MAP_OTF['Endo 1'][4], 'ECT', allocations)\n",
    "allocations = add_allocations(MAP_OTF['Endo 2'][4], 'Echo', allocations)\n",
    "allocations = add_allocations(MAP_OTF['Endo 3'][4], 'EP', allocations)\n",
    "allocations = add_allocations(MAP_OTF['Endo 4'][4], 'Pain', allocations)\n",
    "for col in list(MAP_OTF)[2:8]:\n",
    "    allocations = add_allocations(MAP_OTF[col][8], 'Clinical Support', allocations)\n",
    "    allocations = add_allocations(MAP_OTF[col][10], 'Clinical Support', allocations)\n",
    "    allocations = add_allocations(MAP_OTF[col][15], 'Meetings', allocations)\n",
    "    allocations = add_allocations(MAP_OTF[col][16], 'Meetings', allocations)\n",
    "\n",
    "\n",
    "allocations"
   ]
  },
  {
   "cell_type": "code",
   "execution_count": null,
   "id": "179dc609",
   "metadata": {},
   "outputs": [],
   "source": []
  }
 ],
 "metadata": {
  "kernelspec": {
   "display_name": "Python 3",
   "language": "python",
   "name": "python3"
  },
  "language_info": {
   "codemirror_mode": {
    "name": "ipython",
    "version": 3
   },
   "file_extension": ".py",
   "mimetype": "text/x-python",
   "name": "python",
   "nbconvert_exporter": "python",
   "pygments_lexer": "ipython3",
   "version": "3.9.5"
  }
 },
 "nbformat": 4,
 "nbformat_minor": 5
}
